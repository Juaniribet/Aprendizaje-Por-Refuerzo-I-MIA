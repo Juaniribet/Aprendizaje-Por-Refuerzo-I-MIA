{
 "cells": [
  {
   "cell_type": "markdown",
   "metadata": {},
   "source": [
    "## Q-learning"
   ]
  },
  {
   "cell_type": "code",
   "execution_count": 1,
   "metadata": {},
   "outputs": [
    {
     "name": "stdout",
     "output_type": "stream",
     "text": [
      "Requirement already satisfied: AutoROM in c:\\users\\fsiof\\anaconda3\\envs\\rl\\lib\\site-packages (0.6.1)\n",
      "Requirement already satisfied: gymnasium[atari] in c:\\users\\fsiof\\anaconda3\\envs\\rl\\lib\\site-packages (1.1.1)\n",
      "Requirement already satisfied: numpy>=1.21.0 in c:\\users\\fsiof\\appdata\\roaming\\python\\python313\\site-packages (from gymnasium[atari]) (2.2.3)\n",
      "Requirement already satisfied: cloudpickle>=1.2.0 in c:\\users\\fsiof\\anaconda3\\envs\\rl\\lib\\site-packages (from gymnasium[atari]) (3.1.1)\n",
      "Requirement already satisfied: typing-extensions>=4.3.0 in c:\\users\\fsiof\\anaconda3\\envs\\rl\\lib\\site-packages (from gymnasium[atari]) (4.12.2)\n",
      "Requirement already satisfied: farama-notifications>=0.0.1 in c:\\users\\fsiof\\anaconda3\\envs\\rl\\lib\\site-packages (from gymnasium[atari]) (0.0.4)\n",
      "Requirement already satisfied: ale_py>=0.9 in c:\\users\\fsiof\\anaconda3\\envs\\rl\\lib\\site-packages (from gymnasium[atari]) (0.10.2)\n",
      "Requirement already satisfied: click in c:\\users\\fsiof\\anaconda3\\envs\\rl\\lib\\site-packages (from AutoROM) (8.1.8)\n",
      "Requirement already satisfied: requests in c:\\users\\fsiof\\anaconda3\\envs\\rl\\lib\\site-packages (from AutoROM) (2.32.3)\n",
      "Requirement already satisfied: colorama in c:\\users\\fsiof\\appdata\\roaming\\python\\python313\\site-packages (from click->AutoROM) (0.4.6)\n",
      "Requirement already satisfied: charset-normalizer<4,>=2 in c:\\users\\fsiof\\anaconda3\\envs\\rl\\lib\\site-packages (from requests->AutoROM) (3.4.1)\n",
      "Requirement already satisfied: idna<4,>=2.5 in c:\\users\\fsiof\\anaconda3\\envs\\rl\\lib\\site-packages (from requests->AutoROM) (3.10)\n",
      "Requirement already satisfied: urllib3<3,>=1.21.1 in c:\\users\\fsiof\\appdata\\roaming\\python\\python313\\site-packages (from requests->AutoROM) (2.3.0)\n",
      "Requirement already satisfied: certifi>=2017.4.17 in c:\\users\\fsiof\\anaconda3\\envs\\rl\\lib\\site-packages (from requests->AutoROM) (2025.1.31)\n",
      "Requirement already satisfied: autorom[accept-rom-license] in c:\\users\\fsiof\\anaconda3\\envs\\rl\\lib\\site-packages (0.6.1)\n",
      "Requirement already satisfied: click in c:\\users\\fsiof\\anaconda3\\envs\\rl\\lib\\site-packages (from autorom[accept-rom-license]) (8.1.8)\n",
      "Requirement already satisfied: requests in c:\\users\\fsiof\\anaconda3\\envs\\rl\\lib\\site-packages (from autorom[accept-rom-license]) (2.32.3)\n",
      "Requirement already satisfied: AutoROM.accept-rom-license in c:\\users\\fsiof\\anaconda3\\envs\\rl\\lib\\site-packages (from autorom[accept-rom-license]) (0.6.1)\n",
      "Requirement already satisfied: colorama in c:\\users\\fsiof\\appdata\\roaming\\python\\python313\\site-packages (from click->autorom[accept-rom-license]) (0.4.6)\n",
      "Requirement already satisfied: charset-normalizer<4,>=2 in c:\\users\\fsiof\\anaconda3\\envs\\rl\\lib\\site-packages (from requests->autorom[accept-rom-license]) (3.4.1)\n",
      "Requirement already satisfied: idna<4,>=2.5 in c:\\users\\fsiof\\anaconda3\\envs\\rl\\lib\\site-packages (from requests->autorom[accept-rom-license]) (3.10)\n",
      "Requirement already satisfied: urllib3<3,>=1.21.1 in c:\\users\\fsiof\\appdata\\roaming\\python\\python313\\site-packages (from requests->autorom[accept-rom-license]) (2.3.0)\n",
      "Requirement already satisfied: certifi>=2017.4.17 in c:\\users\\fsiof\\anaconda3\\envs\\rl\\lib\\site-packages (from requests->autorom[accept-rom-license]) (2025.1.31)\n",
      "Requirement already satisfied: shimmy in c:\\users\\fsiof\\anaconda3\\envs\\rl\\lib\\site-packages (2.0.0)\n",
      "Requirement already satisfied: numpy>=1.18.0 in c:\\users\\fsiof\\appdata\\roaming\\python\\python313\\site-packages (from shimmy) (2.2.3)\n",
      "Requirement already satisfied: gymnasium>=1.0.0a1 in c:\\users\\fsiof\\anaconda3\\envs\\rl\\lib\\site-packages (from shimmy) (1.1.1)\n",
      "Requirement already satisfied: cloudpickle>=1.2.0 in c:\\users\\fsiof\\anaconda3\\envs\\rl\\lib\\site-packages (from gymnasium>=1.0.0a1->shimmy) (3.1.1)\n",
      "Requirement already satisfied: typing-extensions>=4.3.0 in c:\\users\\fsiof\\anaconda3\\envs\\rl\\lib\\site-packages (from gymnasium>=1.0.0a1->shimmy) (4.12.2)\n",
      "Requirement already satisfied: farama-notifications>=0.0.1 in c:\\users\\fsiof\\anaconda3\\envs\\rl\\lib\\site-packages (from gymnasium>=1.0.0a1->shimmy) (0.0.4)\n"
     ]
    }
   ],
   "source": [
    "! pip install gymnasium[atari] AutoROM\n",
    "! pip install autorom[accept-rom-license]\n",
    "! pip install shimmy"
   ]
  },
  {
   "cell_type": "code",
   "execution_count": 2,
   "metadata": {},
   "outputs": [
    {
     "name": "stdout",
     "output_type": "stream",
     "text": [
      "AutoROM will download the Atari 2600 ROMs.\n",
      "They will be installed to:\n",
      "\tC:\\Users\\fSIoF\\anaconda3\\envs\\rl\\Lib\\site-packages\\AutoROM\\roms\n",
      "\n",
      "Existing ROMs will be overwritten.\n"
     ]
    }
   ],
   "source": [
    "!AutoROM --accept-license\n",
    "import gymnasium as gym\n",
    "import ale_py\n",
    "import shimmy\n",
    "import numpy as np"
   ]
  },
  {
   "cell_type": "code",
   "execution_count": 3,
   "metadata": {},
   "outputs": [],
   "source": [
    "if __name__ == '__main__':\n",
    "    env = gym.make(\"Taxi-v3\")\n",
    "    env.reset()"
   ]
  },
  {
   "cell_type": "code",
   "execution_count": 15,
   "metadata": {},
   "outputs": [],
   "source": [
    "epochs = 0\n",
    "\n",
    "frames = []  # for animation\n",
    "done = False\n",
    "\n",
    "#env = gym.make(\"ALE/Breakout-v5\", render_mode=\"rgb_array\")\n",
    "env = gym.make(\"Taxi-v3\", render_mode=\"rgb_array\")\n",
    "observation, info = env.reset()\n",
    "\n",
    "while not done:\n",
    "    action = env.action_space.sample()\n",
    "    observation, reward, terminated, truncated, info = env.step(action)\n",
    "\n",
    "    # Put each rendered frame into dict for animation\n",
    "    frames.append(\n",
    "        {\n",
    "            \"frame\": env.render(),\n",
    "            \"state\": observation,\n",
    "            \"action\": action,\n",
    "            \"reward\": reward,\n",
    "        }\n",
    "    )\n",
    "\n",
    "    epochs += 1\n",
    "    if epochs == 1000:\n",
    "        break"
   ]
  },
  {
   "cell_type": "code",
   "execution_count": 16,
   "metadata": {},
   "outputs": [
    {
     "name": "stdout",
     "output_type": "stream",
     "text": [
      "Requirement already satisfied: moviepy in c:\\users\\fsiof\\anaconda3\\envs\\rl\\lib\\site-packages (2.1.2)\n",
      "Requirement already satisfied: decorator<6.0,>=4.0.2 in c:\\users\\fsiof\\appdata\\roaming\\python\\python313\\site-packages (from moviepy) (5.2.1)\n",
      "Requirement already satisfied: imageio<3.0,>=2.5 in c:\\users\\fsiof\\anaconda3\\envs\\rl\\lib\\site-packages (from moviepy) (2.37.0)\n",
      "Requirement already satisfied: imageio_ffmpeg>=0.2.0 in c:\\users\\fsiof\\anaconda3\\envs\\rl\\lib\\site-packages (from moviepy) (0.6.0)\n",
      "Requirement already satisfied: numpy>=1.25.0 in c:\\users\\fsiof\\appdata\\roaming\\python\\python313\\site-packages (from moviepy) (2.2.3)\n",
      "Requirement already satisfied: proglog<=1.0.0 in c:\\users\\fsiof\\anaconda3\\envs\\rl\\lib\\site-packages (from moviepy) (0.1.10)\n",
      "Requirement already satisfied: python-dotenv>=0.10 in c:\\users\\fsiof\\anaconda3\\envs\\rl\\lib\\site-packages (from moviepy) (1.0.1)\n",
      "Requirement already satisfied: pillow<11.0,>=9.2.0 in c:\\users\\fsiof\\anaconda3\\envs\\rl\\lib\\site-packages (from moviepy) (10.4.0)\n",
      "Requirement already satisfied: tqdm in c:\\users\\fsiof\\anaconda3\\envs\\rl\\lib\\site-packages (from proglog<=1.0.0->moviepy) (4.67.1)\n",
      "Requirement already satisfied: colorama in c:\\users\\fsiof\\appdata\\roaming\\python\\python313\\site-packages (from tqdm->proglog<=1.0.0->moviepy) (0.4.6)\n",
      "Requirement already satisfied: matplotlib in c:\\users\\fsiof\\anaconda3\\envs\\rl\\lib\\site-packages (3.10.1)\n",
      "Requirement already satisfied: contourpy>=1.0.1 in c:\\users\\fsiof\\anaconda3\\envs\\rl\\lib\\site-packages (from matplotlib) (1.3.1)\n",
      "Requirement already satisfied: cycler>=0.10 in c:\\users\\fsiof\\anaconda3\\envs\\rl\\lib\\site-packages (from matplotlib) (0.12.1)\n",
      "Requirement already satisfied: fonttools>=4.22.0 in c:\\users\\fsiof\\anaconda3\\envs\\rl\\lib\\site-packages (from matplotlib) (4.56.0)\n",
      "Requirement already satisfied: kiwisolver>=1.3.1 in c:\\users\\fsiof\\anaconda3\\envs\\rl\\lib\\site-packages (from matplotlib) (1.4.8)\n",
      "Requirement already satisfied: numpy>=1.23 in c:\\users\\fsiof\\appdata\\roaming\\python\\python313\\site-packages (from matplotlib) (2.2.3)\n",
      "Requirement already satisfied: packaging>=20.0 in c:\\users\\fsiof\\appdata\\roaming\\python\\python313\\site-packages (from matplotlib) (24.2)\n",
      "Requirement already satisfied: pillow>=8 in c:\\users\\fsiof\\anaconda3\\envs\\rl\\lib\\site-packages (from matplotlib) (10.4.0)\n",
      "Requirement already satisfied: pyparsing>=2.3.1 in c:\\users\\fsiof\\anaconda3\\envs\\rl\\lib\\site-packages (from matplotlib) (3.2.3)\n",
      "Requirement already satisfied: python-dateutil>=2.7 in c:\\users\\fsiof\\appdata\\roaming\\python\\python313\\site-packages (from matplotlib) (2.9.0.post0)\n",
      "Requirement already satisfied: six>=1.5 in c:\\users\\fsiof\\appdata\\roaming\\python\\python313\\site-packages (from python-dateutil>=2.7->matplotlib) (1.17.0)\n",
      "Requirement already satisfied: imageio in c:\\users\\fsiof\\anaconda3\\envs\\rl\\lib\\site-packages (2.37.0)\n",
      "Requirement already satisfied: numpy in c:\\users\\fsiof\\appdata\\roaming\\python\\python313\\site-packages (from imageio) (2.2.3)\n",
      "Requirement already satisfied: pillow>=8.3.2 in c:\\users\\fsiof\\anaconda3\\envs\\rl\\lib\\site-packages (from imageio) (10.4.0)\n"
     ]
    }
   ],
   "source": [
    "!pip install moviepy\n",
    "!pip install matplotlib\n",
    "!pip install imageio"
   ]
  },
  {
   "cell_type": "code",
   "execution_count": 17,
   "metadata": {},
   "outputs": [
    {
     "name": "stdout",
     "output_type": "stream",
     "text": [
      "MoviePy - Building file animation.gif with imageio.\n"
     ]
    },
    {
     "name": "stderr",
     "output_type": "stream",
     "text": [
      "                                                                           \r"
     ]
    }
   ],
   "source": [
    "from moviepy import ImageSequenceClip\n",
    "# !pip install moviepy - if you don’t have moviepy\n",
    "\n",
    "def create_gif(frames: dict, filename, fps=100):\n",
    "    \"\"\"\n",
    "    Creates a GIF animation from a list of RGBA NumPy arrays.\n",
    "\n",
    "    Args:\n",
    "        frames: A list of RGBA NumPy arrays representing the animation frames.\n",
    "        filename: The output filename for the GIF animation.\n",
    "        fps: The frames per second of the animation (default: 10).\n",
    "    \"\"\"\n",
    "    rgba_frames = [frame[\"frame\"] for frame in frames]\n",
    "\n",
    "    clip = ImageSequenceClip(rgba_frames, fps=fps)\n",
    "    clip.write_gif(filename, fps=fps)\n",
    "\n",
    "# Example usage\n",
    "create_gif(frames, \"animation.gif\") #saves the GIF locally"
   ]
  },
  {
   "cell_type": "code",
   "execution_count": 7,
   "metadata": {},
   "outputs": [
    {
     "name": "stdout",
     "output_type": "stream",
     "text": [
      "Observation Space Discrete(500)\n",
      "Sample observation 83\n"
     ]
    }
   ],
   "source": [
    "print(\"Observation Space\", env.observation_space)\n",
    "print(\"Sample observation\", env.observation_space.sample()) # display a random observation"
   ]
  },
  {
   "cell_type": "code",
   "execution_count": 8,
   "metadata": {},
   "outputs": [
    {
     "name": "stdout",
     "output_type": "stream",
     "text": [
      "Action Space Shape 6\n",
      "Action Space Sample 5\n"
     ]
    }
   ],
   "source": [
    "print(\"Action Space Shape\", env.action_space.n)\n",
    "print(\"Action Space Sample\", env.action_space.sample())"
   ]
  },
  {
   "cell_type": "markdown",
   "metadata": {},
   "source": [
    "### Setting parameters of the agent"
   ]
  },
  {
   "cell_type": "code",
   "execution_count": 10,
   "metadata": {},
   "outputs": [],
   "source": [
    "\n",
    "alpha = 0.1       # Learning rate\n",
    "gamma = 0.9       # Discount factor\n",
    "epsilon = 0.1     # Exploration rate\n",
    "epsilon_decay = 0.99  # Decay rate for epsilon\n",
    "episodes = 2000   # Number of training episodes"
   ]
  },
  {
   "cell_type": "markdown",
   "metadata": {},
   "source": [
    "### Initialize the Q-table"
   ]
  },
  {
   "cell_type": "code",
   "execution_count": 11,
   "metadata": {},
   "outputs": [],
   "source": [
    "# Initialize the Q-Table with zeros\n",
    "Q = np.zeros([env.observation_space.n, env.action_space.n])"
   ]
  },
  {
   "cell_type": "markdown",
   "metadata": {},
   "source": [
    "### Training the agent"
   ]
  },
  {
   "cell_type": "code",
   "execution_count": 12,
   "metadata": {},
   "outputs": [],
   "source": [
    "# List to store total rewards per episode\n",
    "reward_list = []\n",
    "# Reduce epsilon over time\n",
    "epsilon_decay = 0.99\n",
    "\n",
    "# Training the agent\n",
    "for episode in range(episodes):\n",
    "    state, _ = env.reset()\n",
    "    done = False\n",
    "    total_rewards = 0  # Track total rewards for this episode\n",
    "\n",
    "    while not done:\n",
    "        # Epsilon-greedy action selection\n",
    "        if np.random.uniform(0, 1) < epsilon:\n",
    "            action = env.action_space.sample()  # Explore\n",
    "        else:\n",
    "            action = np.argmax(Q[state])  # Exploit\n",
    "\n",
    "        # Take the action, observe reward and next state\n",
    "        next_state, reward, done, truncated, _ = env.step(action)\n",
    "        total_rewards += reward\n",
    "\n",
    "        # Q-Learning update\n",
    "        Q[state, action] = Q[state, action] + alpha * (reward + gamma * np.max(Q[next_state]) - Q[state, action])\n",
    "\n",
    "        # Move to the next state\n",
    "        state = next_state\n",
    "\n",
    "    # Decay epsilon after each episode\n",
    "    epsilon *= epsilon_decay\n",
    "\n",
    "    # Append total rewards for this episode to the reward list\n",
    "    reward_list.append(total_rewards)"
   ]
  },
  {
   "cell_type": "code",
   "execution_count": 18,
   "metadata": {},
   "outputs": [
    {
     "name": "stdout",
     "output_type": "stream",
     "text": [
      "\n",
      "Testing the agent's performance:\n",
      "Total Rewards: -18081\n"
     ]
    }
   ],
   "source": [
    "import time\n",
    "import imageio\n",
    "\n",
    "# Reset the environment for a new episode\n",
    "state, _ = env.reset()\n",
    "done = False\n",
    "total_rewards = 0\n",
    "# Store frames for the GIF\n",
    "\n",
    "print(\"\\nTesting the agent's performance:\")\n",
    "\n",
    "while not done:\n",
    "    # Select the action with the highest Q-value for the current state\n",
    "    action = np.argmax(Q[state]) if state in Q else env.action_space.sample()\n",
    "\n",
    "    # Take the action and observe the results\n",
    "    next_state, reward, done, truncated, _ = env.step(action)\n",
    "    total_rewards += reward\n",
    "\n",
    "    # Render the environment (ensure compatibility with text rendering)\n",
    "    env.render()\n",
    "    #time.sleep(0.1)  # Add a slight delay for better visualization\n",
    "\n",
    "    # Move to the next state\n",
    "    state = next_state\n",
    "\n",
    "# Close the environment\n",
    "env.close()\n",
    "\n",
    "print(f\"Total Rewards: {total_rewards}\")\n"
   ]
  },
  {
   "cell_type": "markdown",
   "metadata": {},
   "source": [
    "### Plotting the results"
   ]
  },
  {
   "cell_type": "code",
   "execution_count": 19,
   "metadata": {},
   "outputs": [
    {
     "data": {
      "image/png": "[encoded data removed]",
      "text/plain": [
       "<Figure size 640x480 with 1 Axes>"
      ]
     },
     "metadata": {},
     "output_type": "display_data"
    }
   ],
   "source": [
    "import matplotlib.pyplot as plt\n",
    "\n",
    "# Plot total rewards per episode\n",
    "plt.plot(reward_list)\n",
    "plt.xlabel(\"Episodes\")\n",
    "plt.ylabel(\"Total Rewards\")\n",
    "plt.title(\"Agent's Learning Progress\")\n",
    "plt.show()\n"
   ]
  },
  {
   "cell_type": "code",
   "execution_count": 20,
   "metadata": {},
   "outputs": [
    {
     "data": {
      "image/png": "[encoded data removed]",
      "text/plain": [
       "<Figure size 640x480 with 1 Axes>"
      ]
     },
     "metadata": {},
     "output_type": "display_data"
    }
   ],
   "source": [
    "# Smoothing the curve with a rolling average\n",
    "window_size = 50\n",
    "smoothed_rewards = [np.mean(reward_list[i-window_size:i+1]) if i >= window_size else np.mean(reward_list[:i+1]) for i in range(len(reward_list))]\n",
    "\n",
    "plt.plot(smoothed_rewards)\n",
    "plt.xlabel(\"Episodes\")\n",
    "plt.ylabel(\"Average Total Rewards\")\n",
    "plt.title(\"Smoothed Learning Progress of the Agent\")\n",
    "plt.show()"
   ]
  }
 ],
 "metadata": {
  "kernelspec": {
   "display_name": "rl",
   "language": "python",
   "name": "python3"
  },
  "language_info": {
   "codemirror_mode": {
    "name": "ipython",
    "version": 3
   },
   "file_extension": ".py",
   "mimetype": "text/x-python",
   "name": "python",
   "nbconvert_exporter": "python",
   "pygments_lexer": "ipython3",
   "version": "3.13.2"
  }
 },
 "nbformat": 4,
 "nbformat_minor": 2
}
