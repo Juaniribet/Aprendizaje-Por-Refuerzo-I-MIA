{
 "cells": [
  {
   "cell_type": "code",
   "execution_count": 1,
   "metadata": {},
   "outputs": [
    {
     "name": "stdout",
     "output_type": "stream",
     "text": [
      "Requirement already satisfied: AutoROM in c:\\users\\fsiof\\anaconda3\\envs\\rl\\lib\\site-packages (0.6.1)\n",
      "Requirement already satisfied: gymnasium[atari] in c:\\users\\fsiof\\anaconda3\\envs\\rl\\lib\\site-packages (1.1.1)\n",
      "Requirement already satisfied: numpy>=1.21.0 in c:\\users\\fsiof\\appdata\\roaming\\python\\python313\\site-packages (from gymnasium[atari]) (2.2.3)\n",
      "Requirement already satisfied: cloudpickle>=1.2.0 in c:\\users\\fsiof\\anaconda3\\envs\\rl\\lib\\site-packages (from gymnasium[atari]) (3.1.1)\n",
      "Requirement already satisfied: typing-extensions>=4.3.0 in c:\\users\\fsiof\\anaconda3\\envs\\rl\\lib\\site-packages (from gymnasium[atari]) (4.12.2)\n",
      "Requirement already satisfied: farama-notifications>=0.0.1 in c:\\users\\fsiof\\anaconda3\\envs\\rl\\lib\\site-packages (from gymnasium[atari]) (0.0.4)\n",
      "Requirement already satisfied: ale_py>=0.9 in c:\\users\\fsiof\\anaconda3\\envs\\rl\\lib\\site-packages (from gymnasium[atari]) (0.10.2)\n",
      "Requirement already satisfied: click in c:\\users\\fsiof\\anaconda3\\envs\\rl\\lib\\site-packages (from AutoROM) (8.1.8)\n",
      "Requirement already satisfied: requests in c:\\users\\fsiof\\anaconda3\\envs\\rl\\lib\\site-packages (from AutoROM) (2.32.3)\n",
      "Requirement already satisfied: colorama in c:\\users\\fsiof\\appdata\\roaming\\python\\python313\\site-packages (from click->AutoROM) (0.4.6)\n",
      "Requirement already satisfied: charset-normalizer<4,>=2 in c:\\users\\fsiof\\anaconda3\\envs\\rl\\lib\\site-packages (from requests->AutoROM) (3.4.1)\n",
      "Requirement already satisfied: idna<4,>=2.5 in c:\\users\\fsiof\\anaconda3\\envs\\rl\\lib\\site-packages (from requests->AutoROM) (3.10)\n",
      "Requirement already satisfied: urllib3<3,>=1.21.1 in c:\\users\\fsiof\\appdata\\roaming\\python\\python313\\site-packages (from requests->AutoROM) (2.3.0)\n",
      "Requirement already satisfied: certifi>=2017.4.17 in c:\\users\\fsiof\\anaconda3\\envs\\rl\\lib\\site-packages (from requests->AutoROM) (2025.1.31)\n",
      "Requirement already satisfied: autorom[accept-rom-license] in c:\\users\\fsiof\\anaconda3\\envs\\rl\\lib\\site-packages (0.6.1)\n",
      "Requirement already satisfied: click in c:\\users\\fsiof\\anaconda3\\envs\\rl\\lib\\site-packages (from autorom[accept-rom-license]) (8.1.8)\n",
      "Requirement already satisfied: requests in c:\\users\\fsiof\\anaconda3\\envs\\rl\\lib\\site-packages (from autorom[accept-rom-license]) (2.32.3)\n",
      "Requirement already satisfied: AutoROM.accept-rom-license in c:\\users\\fsiof\\anaconda3\\envs\\rl\\lib\\site-packages (from autorom[accept-rom-license]) (0.6.1)\n",
      "Requirement already satisfied: colorama in c:\\users\\fsiof\\appdata\\roaming\\python\\python313\\site-packages (from click->autorom[accept-rom-license]) (0.4.6)\n",
      "Requirement already satisfied: charset-normalizer<4,>=2 in c:\\users\\fsiof\\anaconda3\\envs\\rl\\lib\\site-packages (from requests->autorom[accept-rom-license]) (3.4.1)\n",
      "Requirement already satisfied: idna<4,>=2.5 in c:\\users\\fsiof\\anaconda3\\envs\\rl\\lib\\site-packages (from requests->autorom[accept-rom-license]) (3.10)\n",
      "Requirement already satisfied: urllib3<3,>=1.21.1 in c:\\users\\fsiof\\appdata\\roaming\\python\\python313\\site-packages (from requests->autorom[accept-rom-license]) (2.3.0)\n",
      "Requirement already satisfied: certifi>=2017.4.17 in c:\\users\\fsiof\\anaconda3\\envs\\rl\\lib\\site-packages (from requests->autorom[accept-rom-license]) (2025.1.31)\n",
      "Requirement already satisfied: shimmy in c:\\users\\fsiof\\anaconda3\\envs\\rl\\lib\\site-packages (2.0.0)\n",
      "Requirement already satisfied: numpy>=1.18.0 in c:\\users\\fsiof\\appdata\\roaming\\python\\python313\\site-packages (from shimmy) (2.2.3)\n",
      "Requirement already satisfied: gymnasium>=1.0.0a1 in c:\\users\\fsiof\\anaconda3\\envs\\rl\\lib\\site-packages (from shimmy) (1.1.1)\n",
      "Requirement already satisfied: cloudpickle>=1.2.0 in c:\\users\\fsiof\\anaconda3\\envs\\rl\\lib\\site-packages (from gymnasium>=1.0.0a1->shimmy) (3.1.1)\n",
      "Requirement already satisfied: typing-extensions>=4.3.0 in c:\\users\\fsiof\\anaconda3\\envs\\rl\\lib\\site-packages (from gymnasium>=1.0.0a1->shimmy) (4.12.2)\n",
      "Requirement already satisfied: farama-notifications>=0.0.1 in c:\\users\\fsiof\\anaconda3\\envs\\rl\\lib\\site-packages (from gymnasium>=1.0.0a1->shimmy) (0.0.4)\n"
     ]
    }
   ],
   "source": [
    "! pip install gymnasium[atari] AutoROM\n",
    "! pip install autorom[accept-rom-license]\n",
    "! pip install shimmy"
   ]
  },
  {
   "cell_type": "code",
   "execution_count": 2,
   "metadata": {},
   "outputs": [
    {
     "name": "stdout",
     "output_type": "stream",
     "text": [
      "AutoROM will download the Atari 2600 ROMs.\n",
      "They will be installed to:\n",
      "\tC:\\Users\\fSIoF\\anaconda3\\envs\\rl\\Lib\\site-packages\\AutoROM\\roms\n",
      "\n",
      "Existing ROMs will be overwritten.\n"
     ]
    }
   ],
   "source": [
    "!AutoROM --accept-license\n",
    "import gymnasium as gym\n",
    "import ale_py\n",
    "import shimmy"
   ]
  },
  {
   "cell_type": "code",
   "execution_count": 3,
   "metadata": {},
   "outputs": [],
   "source": [
    "if __name__ == '__main__':\n",
    "    env = gym.make(\"ALE/Breakout-v5\")"
   ]
  },
  {
   "cell_type": "code",
   "execution_count": 4,
   "metadata": {},
   "outputs": [
    {
     "data": {
      "text/plain": [
       "(array([[[0, 0, 0],\n",
       "         [0, 0, 0],\n",
       "         [0, 0, 0],\n",
       "         ...,\n",
       "         [0, 0, 0],\n",
       "         [0, 0, 0],\n",
       "         [0, 0, 0]],\n",
       " \n",
       "        [[0, 0, 0],\n",
       "         [0, 0, 0],\n",
       "         [0, 0, 0],\n",
       "         ...,\n",
       "         [0, 0, 0],\n",
       "         [0, 0, 0],\n",
       "         [0, 0, 0]],\n",
       " \n",
       "        [[0, 0, 0],\n",
       "         [0, 0, 0],\n",
       "         [0, 0, 0],\n",
       "         ...,\n",
       "         [0, 0, 0],\n",
       "         [0, 0, 0],\n",
       "         [0, 0, 0]],\n",
       " \n",
       "        ...,\n",
       " \n",
       "        [[0, 0, 0],\n",
       "         [0, 0, 0],\n",
       "         [0, 0, 0],\n",
       "         ...,\n",
       "         [0, 0, 0],\n",
       "         [0, 0, 0],\n",
       "         [0, 0, 0]],\n",
       " \n",
       "        [[0, 0, 0],\n",
       "         [0, 0, 0],\n",
       "         [0, 0, 0],\n",
       "         ...,\n",
       "         [0, 0, 0],\n",
       "         [0, 0, 0],\n",
       "         [0, 0, 0]],\n",
       " \n",
       "        [[0, 0, 0],\n",
       "         [0, 0, 0],\n",
       "         [0, 0, 0],\n",
       "         ...,\n",
       "         [0, 0, 0],\n",
       "         [0, 0, 0],\n",
       "         [0, 0, 0]]], shape=(210, 160, 3), dtype=uint8),\n",
       " {'lives': 5, 'episode_frame_number': 0, 'frame_number': 0})"
      ]
     },
     "execution_count": 4,
     "metadata": {},
     "output_type": "execute_result"
    }
   ],
   "source": [
    "env = gym.make(\"ALE/Breakout-v5\", render_mode=\"human\")\n",
    "env.reset()"
   ]
  },
  {
   "cell_type": "code",
   "execution_count": 5,
   "metadata": {},
   "outputs": [],
   "source": [
    "epochs = 0\n",
    "\n",
    "frames = []  # for animation\n",
    "done = False\n",
    "\n",
    "env = gym.make(\"ALE/Breakout-v5\", render_mode=\"rgb_array\")\n",
    "observation, info = env.reset()\n",
    "\n",
    "while not done:\n",
    "    action = env.action_space.sample()\n",
    "    observation, reward, terminated, truncated, info = env.step(action)\n",
    "\n",
    "    # Put each rendered frame into dict for animation\n",
    "    frames.append(\n",
    "        {\n",
    "            \"frame\": env.render(),\n",
    "            \"state\": observation,\n",
    "            \"action\": action,\n",
    "            \"reward\": reward,\n",
    "        }\n",
    "    )\n",
    "\n",
    "    epochs += 1\n",
    "    if epochs == 1000:\n",
    "        break"
   ]
  },
  {
   "cell_type": "code",
   "execution_count": 6,
   "metadata": {},
   "outputs": [
    {
     "name": "stdout",
     "output_type": "stream",
     "text": [
      "Requirement already satisfied: moviepy in c:\\users\\fsiof\\anaconda3\\envs\\rl\\lib\\site-packages (2.1.2)\n",
      "Requirement already satisfied: decorator<6.0,>=4.0.2 in c:\\users\\fsiof\\appdata\\roaming\\python\\python313\\site-packages (from moviepy) (5.2.1)\n",
      "Requirement already satisfied: imageio<3.0,>=2.5 in c:\\users\\fsiof\\anaconda3\\envs\\rl\\lib\\site-packages (from moviepy) (2.37.0)\n",
      "Requirement already satisfied: imageio_ffmpeg>=0.2.0 in c:\\users\\fsiof\\anaconda3\\envs\\rl\\lib\\site-packages (from moviepy) (0.6.0)\n",
      "Requirement already satisfied: numpy>=1.25.0 in c:\\users\\fsiof\\appdata\\roaming\\python\\python313\\site-packages (from moviepy) (2.2.3)\n",
      "Requirement already satisfied: proglog<=1.0.0 in c:\\users\\fsiof\\anaconda3\\envs\\rl\\lib\\site-packages (from moviepy) (0.1.10)\n",
      "Requirement already satisfied: python-dotenv>=0.10 in c:\\users\\fsiof\\anaconda3\\envs\\rl\\lib\\site-packages (from moviepy) (1.0.1)\n",
      "Requirement already satisfied: pillow<11.0,>=9.2.0 in c:\\users\\fsiof\\anaconda3\\envs\\rl\\lib\\site-packages (from moviepy) (10.4.0)\n",
      "Requirement already satisfied: tqdm in c:\\users\\fsiof\\anaconda3\\envs\\rl\\lib\\site-packages (from proglog<=1.0.0->moviepy) (4.67.1)\n",
      "Requirement already satisfied: colorama in c:\\users\\fsiof\\appdata\\roaming\\python\\python313\\site-packages (from tqdm->proglog<=1.0.0->moviepy) (0.4.6)\n"
     ]
    }
   ],
   "source": [
    "!pip install moviepy"
   ]
  },
  {
   "cell_type": "code",
   "execution_count": 9,
   "metadata": {},
   "outputs": [
    {
     "name": "stdout",
     "output_type": "stream",
     "text": [
      "MoviePy - Building file animation.gif with imageio.\n"
     ]
    },
    {
     "name": "stderr",
     "output_type": "stream",
     "text": [
      "                                                                           \r"
     ]
    }
   ],
   "source": [
    "from moviepy import ImageSequenceClip\n",
    "# !pip install moviepy - if you don’t have moviepy\n",
    "\n",
    "def create_gif(frames: dict, filename, fps=100):\n",
    "    \"\"\"\n",
    "    Creates a GIF animation from a list of RGBA NumPy arrays.\n",
    "\n",
    "    Args:\n",
    "        frames: A list of RGBA NumPy arrays representing the animation frames.\n",
    "        filename: The output filename for the GIF animation.\n",
    "        fps: The frames per second of the animation (default: 10).\n",
    "    \"\"\"\n",
    "    rgba_frames = [frame[\"frame\"] for frame in frames]\n",
    "\n",
    "    clip = ImageSequenceClip(rgba_frames, fps=fps)\n",
    "    clip.write_gif(filename, fps=fps)\n",
    "\n",
    "# Example usage\n",
    "create_gif(frames, \"animation.gif\") #saves the GIF locally"
   ]
  }
 ],
 "metadata": {
  "kernelspec": {
   "display_name": "rl",
   "language": "python",
   "name": "python3"
  },
  "language_info": {
   "codemirror_mode": {
    "name": "ipython",
    "version": 3
   },
   "file_extension": ".py",
   "mimetype": "text/x-python",
   "name": "python",
   "nbconvert_exporter": "python",
   "pygments_lexer": "ipython3",
   "version": "3.13.2"
  }
 },
 "nbformat": 4,
 "nbformat_minor": 2
}
